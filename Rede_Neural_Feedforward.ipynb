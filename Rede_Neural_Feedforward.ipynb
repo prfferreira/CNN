{
  "nbformat": 4,
  "nbformat_minor": 0,
  "metadata": {
    "colab": {
      "provenance": [],
      "authorship_tag": "ABX9TyMka0dD2D/3kgRUpU2zQuqc",
      "include_colab_link": true
    },
    "kernelspec": {
      "name": "python3",
      "display_name": "Python 3"
    },
    "language_info": {
      "name": "python"
    }
  },
  "cells": [
    {
      "cell_type": "markdown",
      "metadata": {
        "id": "view-in-github",
        "colab_type": "text"
      },
      "source": [
        "<a href=\"https://colab.research.google.com/github/prfferreira/CNN/blob/main/Rede_Neural_Feedforward.ipynb\" target=\"_parent\"><img src=\"https://colab.research.google.com/assets/colab-badge.svg\" alt=\"Open In Colab\"/></a>"
      ]
    },
    {
      "cell_type": "code",
      "execution_count": 1,
      "metadata": {
        "colab": {
          "base_uri": "https://localhost:8080/"
        },
        "id": "5c5J-ZuJYU7p",
        "outputId": "55343c88-b52e-4d4a-e7c3-5725c15af016"
      },
      "outputs": [
        {
          "output_type": "stream",
          "name": "stdout",
          "text": [
            "Looking in indexes: https://pypi.org/simple, https://us-python.pkg.dev/colab-wheels/public/simple/\n",
            "Requirement already satisfied: tensorflow in /usr/local/lib/python3.8/dist-packages (2.9.2)\n",
            "Collecting tensorflow\n",
            "  Downloading tensorflow-2.11.0-cp38-cp38-manylinux_2_17_x86_64.manylinux2014_x86_64.whl (588.3 MB)\n",
            "\u001b[K     |████████████████████████████████| 588.3 MB 19 kB/s \n",
            "\u001b[?25hRequirement already satisfied: absl-py>=1.0.0 in /usr/local/lib/python3.8/dist-packages (from tensorflow) (1.3.0)\n",
            "Requirement already satisfied: protobuf<3.20,>=3.9.2 in /usr/local/lib/python3.8/dist-packages (from tensorflow) (3.19.6)\n",
            "Requirement already satisfied: astunparse>=1.6.0 in /usr/local/lib/python3.8/dist-packages (from tensorflow) (1.6.3)\n",
            "Requirement already satisfied: termcolor>=1.1.0 in /usr/local/lib/python3.8/dist-packages (from tensorflow) (2.1.1)\n",
            "Collecting tensorboard<2.12,>=2.11\n",
            "  Downloading tensorboard-2.11.0-py3-none-any.whl (6.0 MB)\n",
            "\u001b[K     |████████████████████████████████| 6.0 MB 40.7 MB/s \n",
            "\u001b[?25hCollecting keras<2.12,>=2.11.0\n",
            "  Downloading keras-2.11.0-py2.py3-none-any.whl (1.7 MB)\n",
            "\u001b[K     |████████████████████████████████| 1.7 MB 39.4 MB/s \n",
            "\u001b[?25hRequirement already satisfied: tensorflow-io-gcs-filesystem>=0.23.1 in /usr/local/lib/python3.8/dist-packages (from tensorflow) (0.28.0)\n",
            "Requirement already satisfied: typing-extensions>=3.6.6 in /usr/local/lib/python3.8/dist-packages (from tensorflow) (4.1.1)\n",
            "Requirement already satisfied: grpcio<2.0,>=1.24.3 in /usr/local/lib/python3.8/dist-packages (from tensorflow) (1.50.0)\n",
            "Requirement already satisfied: opt-einsum>=2.3.2 in /usr/local/lib/python3.8/dist-packages (from tensorflow) (3.3.0)\n",
            "Requirement already satisfied: packaging in /usr/local/lib/python3.8/dist-packages (from tensorflow) (21.3)\n",
            "Requirement already satisfied: h5py>=2.9.0 in /usr/local/lib/python3.8/dist-packages (from tensorflow) (3.1.0)\n",
            "Requirement already satisfied: libclang>=13.0.0 in /usr/local/lib/python3.8/dist-packages (from tensorflow) (14.0.6)\n",
            "Requirement already satisfied: numpy>=1.20 in /usr/local/lib/python3.8/dist-packages (from tensorflow) (1.21.6)\n",
            "Requirement already satisfied: google-pasta>=0.1.1 in /usr/local/lib/python3.8/dist-packages (from tensorflow) (0.2.0)\n",
            "Requirement already satisfied: six>=1.12.0 in /usr/local/lib/python3.8/dist-packages (from tensorflow) (1.15.0)\n",
            "Collecting tensorflow-estimator<2.12,>=2.11.0\n",
            "  Downloading tensorflow_estimator-2.11.0-py2.py3-none-any.whl (439 kB)\n",
            "\u001b[K     |████████████████████████████████| 439 kB 57.8 MB/s \n",
            "\u001b[?25hRequirement already satisfied: setuptools in /usr/local/lib/python3.8/dist-packages (from tensorflow) (57.4.0)\n",
            "Collecting flatbuffers>=2.0\n",
            "  Downloading flatbuffers-22.11.23-py2.py3-none-any.whl (26 kB)\n",
            "Requirement already satisfied: wrapt>=1.11.0 in /usr/local/lib/python3.8/dist-packages (from tensorflow) (1.14.1)\n",
            "Requirement already satisfied: gast<=0.4.0,>=0.2.1 in /usr/local/lib/python3.8/dist-packages (from tensorflow) (0.4.0)\n",
            "Requirement already satisfied: wheel<1.0,>=0.23.0 in /usr/local/lib/python3.8/dist-packages (from astunparse>=1.6.0->tensorflow) (0.38.4)\n",
            "Requirement already satisfied: werkzeug>=1.0.1 in /usr/local/lib/python3.8/dist-packages (from tensorboard<2.12,>=2.11->tensorflow) (1.0.1)\n",
            "Requirement already satisfied: tensorboard-data-server<0.7.0,>=0.6.0 in /usr/local/lib/python3.8/dist-packages (from tensorboard<2.12,>=2.11->tensorflow) (0.6.1)\n",
            "Requirement already satisfied: google-auth-oauthlib<0.5,>=0.4.1 in /usr/local/lib/python3.8/dist-packages (from tensorboard<2.12,>=2.11->tensorflow) (0.4.6)\n",
            "Requirement already satisfied: google-auth<3,>=1.6.3 in /usr/local/lib/python3.8/dist-packages (from tensorboard<2.12,>=2.11->tensorflow) (2.14.1)\n",
            "Requirement already satisfied: markdown>=2.6.8 in /usr/local/lib/python3.8/dist-packages (from tensorboard<2.12,>=2.11->tensorflow) (3.4.1)\n",
            "Requirement already satisfied: tensorboard-plugin-wit>=1.6.0 in /usr/local/lib/python3.8/dist-packages (from tensorboard<2.12,>=2.11->tensorflow) (1.8.1)\n",
            "Requirement already satisfied: requests<3,>=2.21.0 in /usr/local/lib/python3.8/dist-packages (from tensorboard<2.12,>=2.11->tensorflow) (2.23.0)\n",
            "Requirement already satisfied: rsa<5,>=3.1.4 in /usr/local/lib/python3.8/dist-packages (from google-auth<3,>=1.6.3->tensorboard<2.12,>=2.11->tensorflow) (4.9)\n",
            "Requirement already satisfied: cachetools<6.0,>=2.0.0 in /usr/local/lib/python3.8/dist-packages (from google-auth<3,>=1.6.3->tensorboard<2.12,>=2.11->tensorflow) (5.2.0)\n",
            "Requirement already satisfied: pyasn1-modules>=0.2.1 in /usr/local/lib/python3.8/dist-packages (from google-auth<3,>=1.6.3->tensorboard<2.12,>=2.11->tensorflow) (0.2.8)\n",
            "Requirement already satisfied: requests-oauthlib>=0.7.0 in /usr/local/lib/python3.8/dist-packages (from google-auth-oauthlib<0.5,>=0.4.1->tensorboard<2.12,>=2.11->tensorflow) (1.3.1)\n",
            "Requirement already satisfied: importlib-metadata>=4.4 in /usr/local/lib/python3.8/dist-packages (from markdown>=2.6.8->tensorboard<2.12,>=2.11->tensorflow) (4.13.0)\n",
            "Requirement already satisfied: zipp>=0.5 in /usr/local/lib/python3.8/dist-packages (from importlib-metadata>=4.4->markdown>=2.6.8->tensorboard<2.12,>=2.11->tensorflow) (3.10.0)\n",
            "Requirement already satisfied: pyasn1<0.5.0,>=0.4.6 in /usr/local/lib/python3.8/dist-packages (from pyasn1-modules>=0.2.1->google-auth<3,>=1.6.3->tensorboard<2.12,>=2.11->tensorflow) (0.4.8)\n",
            "Requirement already satisfied: urllib3!=1.25.0,!=1.25.1,<1.26,>=1.21.1 in /usr/local/lib/python3.8/dist-packages (from requests<3,>=2.21.0->tensorboard<2.12,>=2.11->tensorflow) (1.24.3)\n",
            "Requirement already satisfied: idna<3,>=2.5 in /usr/local/lib/python3.8/dist-packages (from requests<3,>=2.21.0->tensorboard<2.12,>=2.11->tensorflow) (2.10)\n",
            "Requirement already satisfied: chardet<4,>=3.0.2 in /usr/local/lib/python3.8/dist-packages (from requests<3,>=2.21.0->tensorboard<2.12,>=2.11->tensorflow) (3.0.4)\n",
            "Requirement already satisfied: certifi>=2017.4.17 in /usr/local/lib/python3.8/dist-packages (from requests<3,>=2.21.0->tensorboard<2.12,>=2.11->tensorflow) (2022.9.24)\n",
            "Requirement already satisfied: oauthlib>=3.0.0 in /usr/local/lib/python3.8/dist-packages (from requests-oauthlib>=0.7.0->google-auth-oauthlib<0.5,>=0.4.1->tensorboard<2.12,>=2.11->tensorflow) (3.2.2)\n",
            "Requirement already satisfied: pyparsing!=3.0.5,>=2.0.2 in /usr/local/lib/python3.8/dist-packages (from packaging->tensorflow) (3.0.9)\n",
            "Installing collected packages: tensorflow-estimator, tensorboard, keras, flatbuffers, tensorflow\n",
            "  Attempting uninstall: tensorflow-estimator\n",
            "    Found existing installation: tensorflow-estimator 2.9.0\n",
            "    Uninstalling tensorflow-estimator-2.9.0:\n",
            "      Successfully uninstalled tensorflow-estimator-2.9.0\n",
            "  Attempting uninstall: tensorboard\n",
            "    Found existing installation: tensorboard 2.9.1\n",
            "    Uninstalling tensorboard-2.9.1:\n",
            "      Successfully uninstalled tensorboard-2.9.1\n",
            "  Attempting uninstall: keras\n",
            "    Found existing installation: keras 2.9.0\n",
            "    Uninstalling keras-2.9.0:\n",
            "      Successfully uninstalled keras-2.9.0\n",
            "  Attempting uninstall: flatbuffers\n",
            "    Found existing installation: flatbuffers 1.12\n",
            "    Uninstalling flatbuffers-1.12:\n",
            "      Successfully uninstalled flatbuffers-1.12\n",
            "  Attempting uninstall: tensorflow\n",
            "    Found existing installation: tensorflow 2.9.2\n",
            "    Uninstalling tensorflow-2.9.2:\n",
            "      Successfully uninstalled tensorflow-2.9.2\n",
            "Successfully installed flatbuffers-22.11.23 keras-2.11.0 tensorboard-2.11.0 tensorflow-2.11.0 tensorflow-estimator-2.11.0\n"
          ]
        }
      ],
      "source": [
        "!pip install --upgrade tensorflow"
      ]
    },
    {
      "cell_type": "code",
      "source": [
        "!pip install sklearn numpy matplotlib"
      ],
      "metadata": {
        "colab": {
          "base_uri": "https://localhost:8080/"
        },
        "id": "NJOoK4jUspMK",
        "outputId": "fe32c04e-92fc-472f-8b05-12d98d1c7a41"
      },
      "execution_count": 2,
      "outputs": [
        {
          "output_type": "stream",
          "name": "stdout",
          "text": [
            "Looking in indexes: https://pypi.org/simple, https://us-python.pkg.dev/colab-wheels/public/simple/\n",
            "Collecting sklearn\n",
            "  Downloading sklearn-0.0.post1.tar.gz (3.6 kB)\n",
            "Requirement already satisfied: numpy in /usr/local/lib/python3.8/dist-packages (1.21.6)\n",
            "Requirement already satisfied: matplotlib in /usr/local/lib/python3.8/dist-packages (3.2.2)\n",
            "Requirement already satisfied: kiwisolver>=1.0.1 in /usr/local/lib/python3.8/dist-packages (from matplotlib) (1.4.4)\n",
            "Requirement already satisfied: cycler>=0.10 in /usr/local/lib/python3.8/dist-packages (from matplotlib) (0.11.0)\n",
            "Requirement already satisfied: python-dateutil>=2.1 in /usr/local/lib/python3.8/dist-packages (from matplotlib) (2.8.2)\n",
            "Requirement already satisfied: pyparsing!=2.0.4,!=2.1.2,!=2.1.6,>=2.0.1 in /usr/local/lib/python3.8/dist-packages (from matplotlib) (3.0.9)\n",
            "Requirement already satisfied: six>=1.5 in /usr/local/lib/python3.8/dist-packages (from python-dateutil>=2.1->matplotlib) (1.15.0)\n",
            "Building wheels for collected packages: sklearn\n",
            "  Building wheel for sklearn (setup.py) ... \u001b[?25l\u001b[?25hdone\n",
            "  Created wheel for sklearn: filename=sklearn-0.0.post1-py3-none-any.whl size=2344 sha256=72a82aa9c4b0427ad667def5a8f8b1e629c7260b8df1b4c7ad549539fc73c5c4\n",
            "  Stored in directory: /root/.cache/pip/wheels/14/25/f7/1cc0956978ae479e75140219088deb7a36f60459df242b1a72\n",
            "Successfully built sklearn\n",
            "Installing collected packages: sklearn\n",
            "Successfully installed sklearn-0.0.post1\n"
          ]
        }
      ]
    },
    {
      "cell_type": "code",
      "source": [
        "!pip install keras"
      ],
      "metadata": {
        "colab": {
          "base_uri": "https://localhost:8080/"
        },
        "id": "R0AYBmqIs-Oi",
        "outputId": "dedb44a7-ab19-4cea-ef72-acd0b50be38e"
      },
      "execution_count": 3,
      "outputs": [
        {
          "output_type": "stream",
          "name": "stdout",
          "text": [
            "Looking in indexes: https://pypi.org/simple, https://us-python.pkg.dev/colab-wheels/public/simple/\n",
            "Requirement already satisfied: keras in /usr/local/lib/python3.8/dist-packages (2.11.0)\n"
          ]
        }
      ]
    },
    {
      "cell_type": "code",
      "source": [
        "from sklearn.preprocessing import LabelBinarizer\n",
        "from sklearn.metrics import classification_report\n",
        "from tensorflow.keras.losses import CategoricalCrossentropy\n",
        "from tensorflow.keras.models import Sequential\n",
        "from tensorflow.keras.datasets import mnist\n",
        "from tensorflow.keras import backend as K\n",
        "from tensorflow.keras.layers import Conv2D, AveragePooling2D, Flatten, Dense\n",
        "import matplotlib.pyplot as plt\n",
        "import numpy as np"
      ],
      "metadata": {
        "id": "RKYDJn62tAkC"
      },
      "execution_count": 72,
      "outputs": []
    },
    {
      "cell_type": "code",
      "source": [
        "print('[INFO] accessing MNIST...')\n",
        "((TreinoX, TreinoY), (TesteX, TesteY)) = mnist.load_data()"
      ],
      "metadata": {
        "colab": {
          "base_uri": "https://localhost:8080/"
        },
        "id": "J7zRM6LZtUvT",
        "outputId": "bd104429-0657-47cc-e42c-a2a747c7a8bb"
      },
      "execution_count": 99,
      "outputs": [
        {
          "output_type": "stream",
          "name": "stdout",
          "text": [
            "[INFO] accessing MNIST...\n"
          ]
        }
      ]
    },
    {
      "cell_type": "code",
      "source": [
        "i = 0\n",
        "for i in range(5):\n",
        "  plt.subplot(1, 5, i+1)\n",
        "#  plt.subplot(1, 5, i+1)\n",
        "  plt.tight_layout()\n",
        "  plt.imshow(TreinoX[i].reshape(28, 28), cmap='gray')\n",
        "  plt.title('Rótulo:{}'.format(TreinoY[i]))\n",
        "  plt.xticks([])\n",
        "  plt.yticks([])\n",
        "plt.show()"
      ],
      "metadata": {
        "colab": {
          "base_uri": "https://localhost:8080/",
          "height": 104
        },
        "id": "1sEnBvTwvAfS",
        "outputId": "ffa2031c-f712-4391-ca32-9a6aedb109bd"
      },
      "execution_count": 93,
      "outputs": [
        {
          "output_type": "display_data",
          "data": {
            "text/plain": [
              "<Figure size 432x288 with 5 Axes>"
            ],
            "image/png": "[encoded data removed]"
          },
          "metadata": {}
        }
      ]
    },
    {
      "cell_type": "code",
      "source": [
        "qtd_treino = 55000\n",
        "# Separando dados para Validação, Treino (Split)\n",
        "ValidaX = TreinoX[qtd_treino:][...]\n",
        "ValidaY = TreinoY[qtd_treino:][...]\n",
        "# Separando dados para Treino\n",
        "TreinoX = TreinoX[:qtd_treino,...]\n",
        "TreinoY = TreinoY[:qtd_treino,...]\n",
        "\n",
        "# Transformando os dados em bidimensional\n",
        "TreinoX = TreinoX.reshape((TreinoX.shape[0], 28 * 28 * 1))\n",
        "ValidaX = ValidaX.reshape((ValidaX.shape[0], 28 * 28 * 1))\n",
        "TesteX = TesteX.reshape((TesteX.shape[0], 28 * 28 * 1))\n",
        "\n",
        "# Realizando normalização\n",
        "TreinoX = TreinoX.astype('float32') / 255.0\n",
        "ValidaX = ValidaX.astype('float32') / 255.0\n",
        "TesteX = TesteX.astype('float32') / 255.0"
      ],
      "metadata": {
        "id": "jFQpKNZVte5s"
      },
      "execution_count": 100,
      "outputs": []
    },
    {
      "cell_type": "code",
      "source": [
        "lb = LabelBinarizer()\n",
        "TreinoY = lb.fit_transform(TreinoY)\n",
        "ValidaY = lb.transform(ValidaY)\n",
        "TesteY = lb.transform(TesteY)"
      ],
      "metadata": {
        "id": "iKk9Du-lLPm2"
      },
      "execution_count": 101,
      "outputs": []
    },
    {
      "cell_type": "code",
      "source": [
        "model = Sequential()\n",
        "model.add(Dense(256, input_shape=(784,), activation='sigmoid'))\n",
        "model.add(Dense(128, activation='sigmoid'))\n",
        "model.add(Dense(10, activation='softmax'))"
      ],
      "metadata": {
        "id": "d-X0NEi8LqSf"
      },
      "execution_count": 112,
      "outputs": []
    },
    {
      "cell_type": "code",
      "source": [
        "# Utilizando o gradiente de 0,01\n",
        "sgd = SGD(0.01)\n",
        "model.compile(loss='categorical_crossentropy', optimizer=sgd,metrics=['accuracy'])\n",
        "H = model.fit(TreinoX, TreinoY, validation_data=(TesteX, TesteY),epochs=100, batch_size=128)"
      ],
      "metadata": {
        "colab": {
          "base_uri": "https://localhost:8080/"
        },
        "id": "QUb77Tt5UDKo",
        "outputId": "a47736af-d8b2-447a-ce99-e42c1de42aab"
      },
      "execution_count": 113,
      "outputs": [
        {
          "output_type": "stream",
          "name": "stdout",
          "text": [
            "Epoch 1/100\n",
            "430/430 [==============================] - 4s 7ms/step - loss: 2.2746 - accuracy: 0.1860 - val_loss: 2.2377 - val_accuracy: 0.3066\n",
            "Epoch 2/100\n",
            "430/430 [==============================] - 3s 7ms/step - loss: 2.2048 - accuracy: 0.3851 - val_loss: 2.1627 - val_accuracy: 0.4258\n",
            "Epoch 3/100\n",
            "430/430 [==============================] - 3s 7ms/step - loss: 2.1196 - accuracy: 0.4987 - val_loss: 2.0616 - val_accuracy: 0.5775\n",
            "Epoch 4/100\n",
            "430/430 [==============================] - 3s 7ms/step - loss: 2.0006 - accuracy: 0.5684 - val_loss: 1.9170 - val_accuracy: 0.6050\n",
            "Epoch 5/100\n",
            "430/430 [==============================] - 3s 7ms/step - loss: 1.8381 - accuracy: 0.6155 - val_loss: 1.7306 - val_accuracy: 0.6492\n",
            "Epoch 6/100\n",
            "430/430 [==============================] - 3s 7ms/step - loss: 1.6439 - accuracy: 0.6581 - val_loss: 1.5281 - val_accuracy: 0.6834\n",
            "Epoch 7/100\n",
            "430/430 [==============================] - 3s 7ms/step - loss: 1.4494 - accuracy: 0.7007 - val_loss: 1.3417 - val_accuracy: 0.7204\n",
            "Epoch 8/100\n",
            "430/430 [==============================] - 3s 7ms/step - loss: 1.2783 - accuracy: 0.7343 - val_loss: 1.1827 - val_accuracy: 0.7722\n",
            "Epoch 9/100\n",
            "430/430 [==============================] - 3s 7ms/step - loss: 1.1356 - accuracy: 0.7618 - val_loss: 1.0536 - val_accuracy: 0.7765\n",
            "Epoch 10/100\n",
            "430/430 [==============================] - 4s 9ms/step - loss: 1.0190 - accuracy: 0.7809 - val_loss: 0.9473 - val_accuracy: 0.8038\n",
            "Epoch 11/100\n",
            "430/430 [==============================] - 3s 7ms/step - loss: 0.9242 - accuracy: 0.7964 - val_loss: 0.8616 - val_accuracy: 0.8144\n",
            "Epoch 12/100\n",
            "430/430 [==============================] - 3s 7ms/step - loss: 0.8466 - accuracy: 0.8082 - val_loss: 0.7911 - val_accuracy: 0.8245\n",
            "Epoch 13/100\n",
            "430/430 [==============================] - 3s 7ms/step - loss: 0.7824 - accuracy: 0.8194 - val_loss: 0.7335 - val_accuracy: 0.8327\n",
            "Epoch 14/100\n",
            "430/430 [==============================] - 3s 7ms/step - loss: 0.7293 - accuracy: 0.8282 - val_loss: 0.6842 - val_accuracy: 0.8398\n",
            "Epoch 15/100\n",
            "430/430 [==============================] - 3s 7ms/step - loss: 0.6846 - accuracy: 0.8365 - val_loss: 0.6430 - val_accuracy: 0.8482\n",
            "Epoch 16/100\n",
            "430/430 [==============================] - 3s 7ms/step - loss: 0.6467 - accuracy: 0.8429 - val_loss: 0.6074 - val_accuracy: 0.8544\n",
            "Epoch 17/100\n",
            "430/430 [==============================] - 3s 7ms/step - loss: 0.6143 - accuracy: 0.8486 - val_loss: 0.5781 - val_accuracy: 0.8600\n",
            "Epoch 18/100\n",
            "430/430 [==============================] - 3s 7ms/step - loss: 0.5865 - accuracy: 0.8539 - val_loss: 0.5518 - val_accuracy: 0.8640\n",
            "Epoch 19/100\n",
            "430/430 [==============================] - 3s 7ms/step - loss: 0.5623 - accuracy: 0.8580 - val_loss: 0.5295 - val_accuracy: 0.8674\n",
            "Epoch 20/100\n",
            "430/430 [==============================] - 3s 7ms/step - loss: 0.5413 - accuracy: 0.8619 - val_loss: 0.5099 - val_accuracy: 0.8710\n",
            "Epoch 21/100\n",
            "430/430 [==============================] - 3s 7ms/step - loss: 0.5228 - accuracy: 0.8660 - val_loss: 0.4924 - val_accuracy: 0.8752\n",
            "Epoch 22/100\n",
            "430/430 [==============================] - 3s 7ms/step - loss: 0.5065 - accuracy: 0.8687 - val_loss: 0.4774 - val_accuracy: 0.8778\n",
            "Epoch 23/100\n",
            "430/430 [==============================] - 3s 7ms/step - loss: 0.4919 - accuracy: 0.8714 - val_loss: 0.4641 - val_accuracy: 0.8788\n",
            "Epoch 24/100\n",
            "430/430 [==============================] - 3s 7ms/step - loss: 0.4788 - accuracy: 0.8746 - val_loss: 0.4520 - val_accuracy: 0.8820\n",
            "Epoch 25/100\n",
            "430/430 [==============================] - 3s 7ms/step - loss: 0.4672 - accuracy: 0.8766 - val_loss: 0.4399 - val_accuracy: 0.8831\n",
            "Epoch 26/100\n",
            "430/430 [==============================] - 3s 7ms/step - loss: 0.4567 - accuracy: 0.8779 - val_loss: 0.4303 - val_accuracy: 0.8859\n",
            "Epoch 27/100\n",
            "430/430 [==============================] - 3s 7ms/step - loss: 0.4472 - accuracy: 0.8802 - val_loss: 0.4212 - val_accuracy: 0.8880\n",
            "Epoch 28/100\n",
            "430/430 [==============================] - 3s 7ms/step - loss: 0.4385 - accuracy: 0.8817 - val_loss: 0.4136 - val_accuracy: 0.8901\n",
            "Epoch 29/100\n",
            "430/430 [==============================] - 3s 7ms/step - loss: 0.4306 - accuracy: 0.8833 - val_loss: 0.4057 - val_accuracy: 0.8917\n",
            "Epoch 30/100\n",
            "430/430 [==============================] - 3s 7ms/step - loss: 0.4233 - accuracy: 0.8846 - val_loss: 0.3993 - val_accuracy: 0.8916\n",
            "Epoch 31/100\n",
            "430/430 [==============================] - 3s 7ms/step - loss: 0.4167 - accuracy: 0.8860 - val_loss: 0.3929 - val_accuracy: 0.8931\n",
            "Epoch 32/100\n",
            "430/430 [==============================] - 3s 7ms/step - loss: 0.4105 - accuracy: 0.8866 - val_loss: 0.3877 - val_accuracy: 0.8950\n",
            "Epoch 33/100\n",
            "430/430 [==============================] - 4s 8ms/step - loss: 0.4049 - accuracy: 0.8889 - val_loss: 0.3815 - val_accuracy: 0.8948\n",
            "Epoch 34/100\n",
            "430/430 [==============================] - 4s 10ms/step - loss: 0.3996 - accuracy: 0.8898 - val_loss: 0.3775 - val_accuracy: 0.8958\n",
            "Epoch 35/100\n",
            "430/430 [==============================] - 3s 7ms/step - loss: 0.3947 - accuracy: 0.8907 - val_loss: 0.3719 - val_accuracy: 0.8967\n",
            "Epoch 36/100\n",
            "430/430 [==============================] - 3s 7ms/step - loss: 0.3901 - accuracy: 0.8911 - val_loss: 0.3679 - val_accuracy: 0.8975\n",
            "Epoch 37/100\n",
            "430/430 [==============================] - 3s 7ms/step - loss: 0.3859 - accuracy: 0.8923 - val_loss: 0.3645 - val_accuracy: 0.8986\n",
            "Epoch 38/100\n",
            "430/430 [==============================] - 3s 7ms/step - loss: 0.3818 - accuracy: 0.8933 - val_loss: 0.3604 - val_accuracy: 0.8998\n",
            "Epoch 39/100\n",
            "430/430 [==============================] - 3s 7ms/step - loss: 0.3780 - accuracy: 0.8939 - val_loss: 0.3567 - val_accuracy: 0.8995\n",
            "Epoch 40/100\n",
            "430/430 [==============================] - 3s 7ms/step - loss: 0.3744 - accuracy: 0.8947 - val_loss: 0.3540 - val_accuracy: 0.9018\n",
            "Epoch 41/100\n",
            "430/430 [==============================] - 3s 7ms/step - loss: 0.3710 - accuracy: 0.8958 - val_loss: 0.3504 - val_accuracy: 0.9015\n",
            "Epoch 42/100\n",
            "430/430 [==============================] - 3s 7ms/step - loss: 0.3678 - accuracy: 0.8962 - val_loss: 0.3477 - val_accuracy: 0.9028\n",
            "Epoch 43/100\n",
            "430/430 [==============================] - 3s 7ms/step - loss: 0.3648 - accuracy: 0.8973 - val_loss: 0.3448 - val_accuracy: 0.9030\n",
            "Epoch 44/100\n",
            "430/430 [==============================] - 3s 7ms/step - loss: 0.3619 - accuracy: 0.8977 - val_loss: 0.3424 - val_accuracy: 0.9038\n",
            "Epoch 45/100\n",
            "430/430 [==============================] - 3s 7ms/step - loss: 0.3591 - accuracy: 0.8983 - val_loss: 0.3395 - val_accuracy: 0.9044\n",
            "Epoch 46/100\n",
            "430/430 [==============================] - 3s 7ms/step - loss: 0.3564 - accuracy: 0.8992 - val_loss: 0.3368 - val_accuracy: 0.9044\n",
            "Epoch 47/100\n",
            "430/430 [==============================] - 3s 7ms/step - loss: 0.3539 - accuracy: 0.8994 - val_loss: 0.3351 - val_accuracy: 0.9060\n",
            "Epoch 48/100\n",
            "430/430 [==============================] - 3s 7ms/step - loss: 0.3515 - accuracy: 0.8999 - val_loss: 0.3322 - val_accuracy: 0.9055\n",
            "Epoch 49/100\n",
            "430/430 [==============================] - 3s 7ms/step - loss: 0.3490 - accuracy: 0.9005 - val_loss: 0.3306 - val_accuracy: 0.9064\n",
            "Epoch 50/100\n",
            "430/430 [==============================] - 3s 7ms/step - loss: 0.3467 - accuracy: 0.9012 - val_loss: 0.3282 - val_accuracy: 0.9049\n",
            "Epoch 51/100\n",
            "430/430 [==============================] - 3s 7ms/step - loss: 0.3446 - accuracy: 0.9015 - val_loss: 0.3260 - val_accuracy: 0.9062\n",
            "Epoch 52/100\n",
            "430/430 [==============================] - 3s 7ms/step - loss: 0.3425 - accuracy: 0.9019 - val_loss: 0.3243 - val_accuracy: 0.9065\n",
            "Epoch 53/100\n",
            "430/430 [==============================] - 3s 7ms/step - loss: 0.3405 - accuracy: 0.9025 - val_loss: 0.3227 - val_accuracy: 0.9080\n",
            "Epoch 54/100\n",
            "430/430 [==============================] - 3s 6ms/step - loss: 0.3384 - accuracy: 0.9030 - val_loss: 0.3210 - val_accuracy: 0.9085\n",
            "Epoch 55/100\n",
            "430/430 [==============================] - 3s 7ms/step - loss: 0.3365 - accuracy: 0.9035 - val_loss: 0.3191 - val_accuracy: 0.9082\n",
            "Epoch 56/100\n",
            "430/430 [==============================] - 3s 7ms/step - loss: 0.3347 - accuracy: 0.9040 - val_loss: 0.3172 - val_accuracy: 0.9084\n",
            "Epoch 57/100\n",
            "430/430 [==============================] - 3s 7ms/step - loss: 0.3329 - accuracy: 0.9044 - val_loss: 0.3157 - val_accuracy: 0.9092\n",
            "Epoch 58/100\n",
            "430/430 [==============================] - 3s 7ms/step - loss: 0.3311 - accuracy: 0.9050 - val_loss: 0.3142 - val_accuracy: 0.9081\n",
            "Epoch 59/100\n",
            "430/430 [==============================] - 3s 7ms/step - loss: 0.3294 - accuracy: 0.9054 - val_loss: 0.3127 - val_accuracy: 0.9098\n",
            "Epoch 60/100\n",
            "430/430 [==============================] - 3s 7ms/step - loss: 0.3277 - accuracy: 0.9051 - val_loss: 0.3112 - val_accuracy: 0.9103\n",
            "Epoch 61/100\n",
            "430/430 [==============================] - 3s 7ms/step - loss: 0.3261 - accuracy: 0.9066 - val_loss: 0.3101 - val_accuracy: 0.9108\n",
            "Epoch 62/100\n",
            "430/430 [==============================] - 3s 7ms/step - loss: 0.3246 - accuracy: 0.9065 - val_loss: 0.3082 - val_accuracy: 0.9108\n",
            "Epoch 63/100\n",
            "430/430 [==============================] - 3s 7ms/step - loss: 0.3230 - accuracy: 0.9071 - val_loss: 0.3071 - val_accuracy: 0.9115\n",
            "Epoch 64/100\n",
            "430/430 [==============================] - 3s 7ms/step - loss: 0.3214 - accuracy: 0.9075 - val_loss: 0.3055 - val_accuracy: 0.9113\n",
            "Epoch 65/100\n",
            "430/430 [==============================] - 3s 7ms/step - loss: 0.3200 - accuracy: 0.9077 - val_loss: 0.3040 - val_accuracy: 0.9126\n",
            "Epoch 66/100\n",
            "430/430 [==============================] - 3s 7ms/step - loss: 0.3186 - accuracy: 0.9082 - val_loss: 0.3027 - val_accuracy: 0.9123\n",
            "Epoch 67/100\n",
            "430/430 [==============================] - 3s 7ms/step - loss: 0.3171 - accuracy: 0.9085 - val_loss: 0.3014 - val_accuracy: 0.9125\n",
            "Epoch 68/100\n",
            "430/430 [==============================] - 3s 7ms/step - loss: 0.3157 - accuracy: 0.9088 - val_loss: 0.3008 - val_accuracy: 0.9134\n",
            "Epoch 69/100\n",
            "430/430 [==============================] - 3s 7ms/step - loss: 0.3143 - accuracy: 0.9094 - val_loss: 0.2994 - val_accuracy: 0.9135\n",
            "Epoch 70/100\n",
            "430/430 [==============================] - 3s 7ms/step - loss: 0.3131 - accuracy: 0.9097 - val_loss: 0.2980 - val_accuracy: 0.9143\n",
            "Epoch 71/100\n",
            "430/430 [==============================] - 3s 7ms/step - loss: 0.3117 - accuracy: 0.9102 - val_loss: 0.2965 - val_accuracy: 0.9143\n",
            "Epoch 72/100\n",
            "430/430 [==============================] - 3s 7ms/step - loss: 0.3104 - accuracy: 0.9100 - val_loss: 0.2955 - val_accuracy: 0.9142\n",
            "Epoch 73/100\n",
            "430/430 [==============================] - 3s 7ms/step - loss: 0.3091 - accuracy: 0.9108 - val_loss: 0.2949 - val_accuracy: 0.9147\n",
            "Epoch 74/100\n",
            "430/430 [==============================] - 3s 7ms/step - loss: 0.3080 - accuracy: 0.9108 - val_loss: 0.2936 - val_accuracy: 0.9154\n",
            "Epoch 75/100\n",
            "430/430 [==============================] - 3s 7ms/step - loss: 0.3067 - accuracy: 0.9116 - val_loss: 0.2923 - val_accuracy: 0.9155\n",
            "Epoch 76/100\n",
            "430/430 [==============================] - 3s 7ms/step - loss: 0.3055 - accuracy: 0.9119 - val_loss: 0.2917 - val_accuracy: 0.9155\n",
            "Epoch 77/100\n",
            "430/430 [==============================] - 3s 7ms/step - loss: 0.3042 - accuracy: 0.9118 - val_loss: 0.2904 - val_accuracy: 0.9148\n",
            "Epoch 78/100\n",
            "430/430 [==============================] - 3s 7ms/step - loss: 0.3031 - accuracy: 0.9124 - val_loss: 0.2895 - val_accuracy: 0.9159\n",
            "Epoch 79/100\n",
            "430/430 [==============================] - 3s 7ms/step - loss: 0.3020 - accuracy: 0.9129 - val_loss: 0.2882 - val_accuracy: 0.9159\n",
            "Epoch 80/100\n",
            "430/430 [==============================] - 3s 7ms/step - loss: 0.3008 - accuracy: 0.9131 - val_loss: 0.2871 - val_accuracy: 0.9160\n",
            "Epoch 81/100\n",
            "430/430 [==============================] - 3s 7ms/step - loss: 0.2997 - accuracy: 0.9131 - val_loss: 0.2867 - val_accuracy: 0.9164\n",
            "Epoch 82/100\n",
            "430/430 [==============================] - 3s 7ms/step - loss: 0.2986 - accuracy: 0.9133 - val_loss: 0.2854 - val_accuracy: 0.9162\n",
            "Epoch 83/100\n",
            "430/430 [==============================] - 4s 10ms/step - loss: 0.2975 - accuracy: 0.9137 - val_loss: 0.2849 - val_accuracy: 0.9174\n",
            "Epoch 84/100\n",
            "430/430 [==============================] - 4s 9ms/step - loss: 0.2965 - accuracy: 0.9141 - val_loss: 0.2835 - val_accuracy: 0.9177\n",
            "Epoch 85/100\n",
            "430/430 [==============================] - 3s 7ms/step - loss: 0.2954 - accuracy: 0.9147 - val_loss: 0.2830 - val_accuracy: 0.9176\n",
            "Epoch 86/100\n",
            "430/430 [==============================] - 3s 7ms/step - loss: 0.2943 - accuracy: 0.9147 - val_loss: 0.2824 - val_accuracy: 0.9175\n",
            "Epoch 87/100\n",
            "430/430 [==============================] - 3s 7ms/step - loss: 0.2934 - accuracy: 0.9148 - val_loss: 0.2808 - val_accuracy: 0.9182\n",
            "Epoch 88/100\n",
            "430/430 [==============================] - 3s 7ms/step - loss: 0.2922 - accuracy: 0.9153 - val_loss: 0.2803 - val_accuracy: 0.9187\n",
            "Epoch 89/100\n",
            "430/430 [==============================] - 3s 7ms/step - loss: 0.2912 - accuracy: 0.9154 - val_loss: 0.2796 - val_accuracy: 0.9181\n",
            "Epoch 90/100\n",
            "430/430 [==============================] - 3s 7ms/step - loss: 0.2903 - accuracy: 0.9160 - val_loss: 0.2787 - val_accuracy: 0.9184\n",
            "Epoch 91/100\n",
            "430/430 [==============================] - 3s 7ms/step - loss: 0.2893 - accuracy: 0.9161 - val_loss: 0.2772 - val_accuracy: 0.9193\n",
            "Epoch 92/100\n",
            "430/430 [==============================] - 3s 7ms/step - loss: 0.2883 - accuracy: 0.9158 - val_loss: 0.2763 - val_accuracy: 0.9194\n",
            "Epoch 93/100\n",
            "430/430 [==============================] - 3s 7ms/step - loss: 0.2874 - accuracy: 0.9161 - val_loss: 0.2758 - val_accuracy: 0.9197\n",
            "Epoch 94/100\n",
            "430/430 [==============================] - 3s 7ms/step - loss: 0.2864 - accuracy: 0.9168 - val_loss: 0.2754 - val_accuracy: 0.9211\n",
            "Epoch 95/100\n",
            "430/430 [==============================] - 3s 7ms/step - loss: 0.2855 - accuracy: 0.9169 - val_loss: 0.2742 - val_accuracy: 0.9198\n",
            "Epoch 96/100\n",
            "430/430 [==============================] - 3s 7ms/step - loss: 0.2846 - accuracy: 0.9171 - val_loss: 0.2734 - val_accuracy: 0.9206\n",
            "Epoch 97/100\n",
            "430/430 [==============================] - 3s 7ms/step - loss: 0.2836 - accuracy: 0.9177 - val_loss: 0.2726 - val_accuracy: 0.9207\n",
            "Epoch 98/100\n",
            "430/430 [==============================] - 3s 7ms/step - loss: 0.2827 - accuracy: 0.9183 - val_loss: 0.2720 - val_accuracy: 0.9207\n",
            "Epoch 99/100\n",
            "430/430 [==============================] - 3s 7ms/step - loss: 0.2818 - accuracy: 0.9184 - val_loss: 0.2711 - val_accuracy: 0.9222\n",
            "Epoch 100/100\n",
            "430/430 [==============================] - 3s 7ms/step - loss: 0.2809 - accuracy: 0.9187 - val_loss: 0.2704 - val_accuracy: 0.9212\n"
          ]
        }
      ]
    },
    {
      "cell_type": "markdown",
      "source": [
        "# Com o gradiente de 0,01 e passando a Validação para predição o modelo obteve uma acuracia de 94%"
      ],
      "metadata": {
        "id": "c2gbVGB5Xazk"
      }
    },
    {
      "cell_type": "code",
      "source": [
        "predictions = model.predict(ValidaX, batch_size=128)\n",
        "print(classification_report(ValidaY.argmax(axis=1), predictions.argmax(axis=1), target_names=[str(x) for x in lb.classes_]))\n"
      ],
      "metadata": {
        "colab": {
          "base_uri": "https://localhost:8080/"
        },
        "id": "0Qg5W8RyUJ4v",
        "outputId": "c504939f-fd3a-4b01-90df-6ccda7e6891b"
      },
      "execution_count": 114,
      "outputs": [
        {
          "output_type": "stream",
          "name": "stdout",
          "text": [
            "40/40 [==============================] - 0s 3ms/step\n",
            "              precision    recall  f1-score   support\n",
            "\n",
            "           0       0.97      0.97      0.97       489\n",
            "           1       0.94      0.97      0.95       530\n",
            "           2       0.94      0.94      0.94       493\n",
            "           3       0.91      0.92      0.91       509\n",
            "           4       0.93      0.96      0.94       499\n",
            "           5       0.90      0.88      0.89       458\n",
            "           6       0.95      0.97      0.96       482\n",
            "           7       0.96      0.96      0.96       563\n",
            "           8       0.93      0.88      0.91       494\n",
            "           9       0.93      0.92      0.92       483\n",
            "\n",
            "    accuracy                           0.94      5000\n",
            "   macro avg       0.94      0.94      0.94      5000\n",
            "weighted avg       0.94      0.94      0.94      5000\n",
            "\n"
          ]
        }
      ]
    },
    {
      "cell_type": "code",
      "source": [
        "plt.style.use('ggplot')\n",
        "plt.figure()\n",
        "plt.plot(np.arange(0, 100), H.history['loss'], label='train_loss')\n",
        "plt.plot(np.arange(0, 100), H.history['val_loss'], label='val_loss')\n",
        "plt.plot(np.arange(0, 100), H.history['accuracy'], label='train_acc')\n",
        "plt.plot(np.arange(0, 100), H.history['val_accuracy'], label='val_acc')\n",
        "plt.title('Training Loss and Accuracy')\n",
        "plt.xlabel('Epoch #')\n",
        "plt.ylabel('Loss/Accuracy')\n",
        "plt.legend()"
      ],
      "metadata": {
        "colab": {
          "base_uri": "https://localhost:8080/",
          "height": 316
        },
        "id": "mr3p-nS6ULBv",
        "outputId": "7300d5ba-13a0-474e-bbfd-ab68d90a8d44"
      },
      "execution_count": 115,
      "outputs": [
        {
          "output_type": "execute_result",
          "data": {
            "text/plain": [
              "<matplotlib.legend.Legend at 0x7f2bb1963340>"
            ]
          },
          "metadata": {},
          "execution_count": 115
        },
        {
          "output_type": "display_data",
          "data": {
            "text/plain": [
              "<Figure size 432x288 with 1 Axes>"
            ],
            "image/png": "[encoded data removed]"
          },
          "metadata": {}
        }
      ]
    },
    {
      "cell_type": "code",
      "source": [
        "model = Sequential()\n",
        "model.add(Dense(256, input_shape=(784,), activation='sigmoid'))\n",
        "model.add(Dense(128, activation='sigmoid'))\n",
        "model.add(Dense(10, activation='softmax'))"
      ],
      "metadata": {
        "id": "_Q9OBJaPUgLS"
      },
      "execution_count": 116,
      "outputs": []
    },
    {
      "cell_type": "code",
      "source": [
        "#Utilizando o gradiente de 0,02\n",
        "sgd = SGD(0.02)\n",
        "model.compile(loss='categorical_crossentropy', optimizer=sgd,metrics=['accuracy'])\n",
        "H = model.fit(TreinoX, TreinoY, validation_data=(TesteX, TesteY),epochs=100, batch_size=128)"
      ],
      "metadata": {
        "colab": {
          "base_uri": "https://localhost:8080/"
        },
        "id": "0jJ-DiPYNt-v",
        "outputId": "f79d109f-3a98-4ea0-dece-9197fa7c5483"
      },
      "execution_count": 117,
      "outputs": [
        {
          "output_type": "stream",
          "name": "stdout",
          "text": [
            "Epoch 1/100\n",
            "430/430 [==============================] - 4s 7ms/step - loss: 2.2501 - accuracy: 0.2708 - val_loss: 2.1820 - val_accuracy: 0.4713\n",
            "Epoch 2/100\n",
            "430/430 [==============================] - 3s 7ms/step - loss: 2.0910 - accuracy: 0.4875 - val_loss: 1.9697 - val_accuracy: 0.5131\n",
            "Epoch 3/100\n",
            "430/430 [==============================] - 3s 7ms/step - loss: 1.8061 - accuracy: 0.5951 - val_loss: 1.6072 - val_accuracy: 0.6547\n",
            "Epoch 4/100\n",
            "430/430 [==============================] - 3s 7ms/step - loss: 1.4318 - accuracy: 0.6839 - val_loss: 1.2433 - val_accuracy: 0.7180\n",
            "Epoch 5/100\n",
            "430/430 [==============================] - 3s 7ms/step - loss: 1.1262 - accuracy: 0.7471 - val_loss: 0.9944 - val_accuracy: 0.7721\n",
            "Epoch 6/100\n",
            "430/430 [==============================] - 3s 7ms/step - loss: 0.9276 - accuracy: 0.7842 - val_loss: 0.8351 - val_accuracy: 0.8077\n",
            "Epoch 7/100\n",
            "430/430 [==============================] - 3s 7ms/step - loss: 0.7965 - accuracy: 0.8086 - val_loss: 0.7251 - val_accuracy: 0.8256\n",
            "Epoch 8/100\n",
            "430/430 [==============================] - 3s 7ms/step - loss: 0.7030 - accuracy: 0.8272 - val_loss: 0.6446 - val_accuracy: 0.8408\n",
            "Epoch 9/100\n",
            "430/430 [==============================] - 3s 7ms/step - loss: 0.6331 - accuracy: 0.8410 - val_loss: 0.5833 - val_accuracy: 0.8540\n",
            "Epoch 10/100\n",
            "430/430 [==============================] - 3s 7ms/step - loss: 0.5795 - accuracy: 0.8519 - val_loss: 0.5362 - val_accuracy: 0.8633\n",
            "Epoch 11/100\n",
            "430/430 [==============================] - 3s 7ms/step - loss: 0.5381 - accuracy: 0.8599 - val_loss: 0.4982 - val_accuracy: 0.8723\n",
            "Epoch 12/100\n",
            "430/430 [==============================] - 3s 7ms/step - loss: 0.5049 - accuracy: 0.8668 - val_loss: 0.4698 - val_accuracy: 0.8770\n",
            "Epoch 13/100\n",
            "430/430 [==============================] - 3s 7ms/step - loss: 0.4784 - accuracy: 0.8728 - val_loss: 0.4451 - val_accuracy: 0.8837\n",
            "Epoch 14/100\n",
            "430/430 [==============================] - 3s 7ms/step - loss: 0.4566 - accuracy: 0.8774 - val_loss: 0.4248 - val_accuracy: 0.8860\n",
            "Epoch 15/100\n",
            "430/430 [==============================] - 3s 7ms/step - loss: 0.4384 - accuracy: 0.8813 - val_loss: 0.4085 - val_accuracy: 0.8891\n",
            "Epoch 16/100\n",
            "430/430 [==============================] - 3s 7ms/step - loss: 0.4231 - accuracy: 0.8843 - val_loss: 0.3958 - val_accuracy: 0.8926\n",
            "Epoch 17/100\n",
            "430/430 [==============================] - 3s 7ms/step - loss: 0.4101 - accuracy: 0.8872 - val_loss: 0.3836 - val_accuracy: 0.8948\n",
            "Epoch 18/100\n",
            "430/430 [==============================] - 3s 7ms/step - loss: 0.3991 - accuracy: 0.8897 - val_loss: 0.3734 - val_accuracy: 0.8969\n",
            "Epoch 19/100\n",
            "430/430 [==============================] - 3s 7ms/step - loss: 0.3893 - accuracy: 0.8914 - val_loss: 0.3642 - val_accuracy: 0.8982\n",
            "Epoch 20/100\n",
            "430/430 [==============================] - 3s 7ms/step - loss: 0.3807 - accuracy: 0.8941 - val_loss: 0.3567 - val_accuracy: 0.9002\n",
            "Epoch 21/100\n",
            "430/430 [==============================] - 3s 7ms/step - loss: 0.3731 - accuracy: 0.8955 - val_loss: 0.3504 - val_accuracy: 0.9010\n",
            "Epoch 22/100\n",
            "430/430 [==============================] - 3s 7ms/step - loss: 0.3663 - accuracy: 0.8962 - val_loss: 0.3445 - val_accuracy: 0.9024\n",
            "Epoch 23/100\n",
            "430/430 [==============================] - 3s 7ms/step - loss: 0.3604 - accuracy: 0.8979 - val_loss: 0.3382 - val_accuracy: 0.9045\n",
            "Epoch 24/100\n",
            "430/430 [==============================] - 3s 7ms/step - loss: 0.3548 - accuracy: 0.8991 - val_loss: 0.3324 - val_accuracy: 0.9048\n",
            "Epoch 25/100\n",
            "430/430 [==============================] - 3s 7ms/step - loss: 0.3495 - accuracy: 0.9005 - val_loss: 0.3284 - val_accuracy: 0.9053\n",
            "Epoch 26/100\n",
            "430/430 [==============================] - 5s 11ms/step - loss: 0.3449 - accuracy: 0.9017 - val_loss: 0.3236 - val_accuracy: 0.9064\n",
            "Epoch 27/100\n",
            "430/430 [==============================] - 3s 7ms/step - loss: 0.3405 - accuracy: 0.9029 - val_loss: 0.3203 - val_accuracy: 0.9076\n",
            "Epoch 28/100\n",
            "430/430 [==============================] - 3s 7ms/step - loss: 0.3363 - accuracy: 0.9036 - val_loss: 0.3169 - val_accuracy: 0.9082\n",
            "Epoch 29/100\n",
            "430/430 [==============================] - 3s 7ms/step - loss: 0.3326 - accuracy: 0.9045 - val_loss: 0.3124 - val_accuracy: 0.9079\n",
            "Epoch 30/100\n",
            "430/430 [==============================] - 3s 7ms/step - loss: 0.3291 - accuracy: 0.9053 - val_loss: 0.3095 - val_accuracy: 0.9107\n",
            "Epoch 31/100\n",
            "430/430 [==============================] - 3s 7ms/step - loss: 0.3255 - accuracy: 0.9064 - val_loss: 0.3069 - val_accuracy: 0.9110\n",
            "Epoch 32/100\n",
            "430/430 [==============================] - 3s 7ms/step - loss: 0.3224 - accuracy: 0.9073 - val_loss: 0.3039 - val_accuracy: 0.9121\n",
            "Epoch 33/100\n",
            "430/430 [==============================] - 3s 7ms/step - loss: 0.3194 - accuracy: 0.9075 - val_loss: 0.3005 - val_accuracy: 0.9134\n",
            "Epoch 34/100\n",
            "430/430 [==============================] - 3s 7ms/step - loss: 0.3164 - accuracy: 0.9085 - val_loss: 0.2991 - val_accuracy: 0.9125\n",
            "Epoch 35/100\n",
            "430/430 [==============================] - 3s 7ms/step - loss: 0.3138 - accuracy: 0.9095 - val_loss: 0.2966 - val_accuracy: 0.9135\n",
            "Epoch 36/100\n",
            "430/430 [==============================] - 3s 7ms/step - loss: 0.3111 - accuracy: 0.9102 - val_loss: 0.2934 - val_accuracy: 0.9156\n",
            "Epoch 37/100\n",
            "430/430 [==============================] - 3s 7ms/step - loss: 0.3085 - accuracy: 0.9106 - val_loss: 0.2927 - val_accuracy: 0.9148\n",
            "Epoch 38/100\n",
            "430/430 [==============================] - 3s 7ms/step - loss: 0.3062 - accuracy: 0.9114 - val_loss: 0.2898 - val_accuracy: 0.9168\n",
            "Epoch 39/100\n",
            "430/430 [==============================] - 3s 7ms/step - loss: 0.3038 - accuracy: 0.9125 - val_loss: 0.2876 - val_accuracy: 0.9171\n",
            "Epoch 40/100\n",
            "430/430 [==============================] - 3s 7ms/step - loss: 0.3015 - accuracy: 0.9128 - val_loss: 0.2860 - val_accuracy: 0.9174\n",
            "Epoch 41/100\n",
            "430/430 [==============================] - 3s 7ms/step - loss: 0.2993 - accuracy: 0.9133 - val_loss: 0.2844 - val_accuracy: 0.9187\n",
            "Epoch 42/100\n",
            "430/430 [==============================] - 3s 7ms/step - loss: 0.2974 - accuracy: 0.9139 - val_loss: 0.2815 - val_accuracy: 0.9183\n",
            "Epoch 43/100\n",
            "430/430 [==============================] - 3s 7ms/step - loss: 0.2952 - accuracy: 0.9144 - val_loss: 0.2795 - val_accuracy: 0.9190\n",
            "Epoch 44/100\n",
            "430/430 [==============================] - 3s 7ms/step - loss: 0.2933 - accuracy: 0.9149 - val_loss: 0.2779 - val_accuracy: 0.9188\n",
            "Epoch 45/100\n",
            "430/430 [==============================] - 3s 7ms/step - loss: 0.2912 - accuracy: 0.9155 - val_loss: 0.2768 - val_accuracy: 0.9190\n",
            "Epoch 46/100\n",
            "430/430 [==============================] - 3s 7ms/step - loss: 0.2893 - accuracy: 0.9161 - val_loss: 0.2758 - val_accuracy: 0.9198\n",
            "Epoch 47/100\n",
            "430/430 [==============================] - 3s 7ms/step - loss: 0.2874 - accuracy: 0.9168 - val_loss: 0.2752 - val_accuracy: 0.9215\n",
            "Epoch 48/100\n",
            "430/430 [==============================] - 3s 7ms/step - loss: 0.2856 - accuracy: 0.9169 - val_loss: 0.2723 - val_accuracy: 0.9205\n",
            "Epoch 49/100\n",
            "430/430 [==============================] - 3s 7ms/step - loss: 0.2839 - accuracy: 0.9171 - val_loss: 0.2701 - val_accuracy: 0.9212\n",
            "Epoch 50/100\n",
            "430/430 [==============================] - 3s 7ms/step - loss: 0.2822 - accuracy: 0.9180 - val_loss: 0.2688 - val_accuracy: 0.9222\n",
            "Epoch 51/100\n",
            "430/430 [==============================] - 3s 7ms/step - loss: 0.2803 - accuracy: 0.9185 - val_loss: 0.2673 - val_accuracy: 0.9221\n",
            "Epoch 52/100\n",
            "430/430 [==============================] - 3s 7ms/step - loss: 0.2787 - accuracy: 0.9194 - val_loss: 0.2668 - val_accuracy: 0.9218\n",
            "Epoch 53/100\n",
            "430/430 [==============================] - 3s 7ms/step - loss: 0.2769 - accuracy: 0.9194 - val_loss: 0.2655 - val_accuracy: 0.9230\n",
            "Epoch 54/100\n",
            "430/430 [==============================] - 3s 7ms/step - loss: 0.2755 - accuracy: 0.9203 - val_loss: 0.2636 - val_accuracy: 0.9226\n",
            "Epoch 55/100\n",
            "430/430 [==============================] - 3s 7ms/step - loss: 0.2738 - accuracy: 0.9206 - val_loss: 0.2626 - val_accuracy: 0.9235\n",
            "Epoch 56/100\n",
            "430/430 [==============================] - 3s 7ms/step - loss: 0.2722 - accuracy: 0.9208 - val_loss: 0.2602 - val_accuracy: 0.9246\n",
            "Epoch 57/100\n",
            "430/430 [==============================] - 3s 7ms/step - loss: 0.2707 - accuracy: 0.9213 - val_loss: 0.2591 - val_accuracy: 0.9240\n",
            "Epoch 58/100\n",
            "430/430 [==============================] - 3s 7ms/step - loss: 0.2691 - accuracy: 0.9218 - val_loss: 0.2586 - val_accuracy: 0.9236\n",
            "Epoch 59/100\n",
            "430/430 [==============================] - 3s 7ms/step - loss: 0.2676 - accuracy: 0.9218 - val_loss: 0.2572 - val_accuracy: 0.9247\n",
            "Epoch 60/100\n",
            "430/430 [==============================] - 3s 7ms/step - loss: 0.2660 - accuracy: 0.9225 - val_loss: 0.2547 - val_accuracy: 0.9257\n",
            "Epoch 61/100\n",
            "430/430 [==============================] - 3s 7ms/step - loss: 0.2645 - accuracy: 0.9229 - val_loss: 0.2545 - val_accuracy: 0.9264\n",
            "Epoch 62/100\n",
            "430/430 [==============================] - 3s 7ms/step - loss: 0.2631 - accuracy: 0.9231 - val_loss: 0.2529 - val_accuracy: 0.9263\n",
            "Epoch 63/100\n",
            "430/430 [==============================] - 3s 7ms/step - loss: 0.2616 - accuracy: 0.9240 - val_loss: 0.2514 - val_accuracy: 0.9262\n",
            "Epoch 64/100\n",
            "430/430 [==============================] - 3s 7ms/step - loss: 0.2601 - accuracy: 0.9237 - val_loss: 0.2507 - val_accuracy: 0.9261\n",
            "Epoch 65/100\n",
            "430/430 [==============================] - 3s 7ms/step - loss: 0.2587 - accuracy: 0.9244 - val_loss: 0.2507 - val_accuracy: 0.9261\n",
            "Epoch 66/100\n",
            "430/430 [==============================] - 3s 7ms/step - loss: 0.2573 - accuracy: 0.9250 - val_loss: 0.2486 - val_accuracy: 0.9276\n",
            "Epoch 67/100\n",
            "430/430 [==============================] - 3s 7ms/step - loss: 0.2559 - accuracy: 0.9251 - val_loss: 0.2467 - val_accuracy: 0.9280\n",
            "Epoch 68/100\n",
            "430/430 [==============================] - 3s 7ms/step - loss: 0.2544 - accuracy: 0.9255 - val_loss: 0.2455 - val_accuracy: 0.9279\n",
            "Epoch 69/100\n",
            "430/430 [==============================] - 3s 7ms/step - loss: 0.2530 - accuracy: 0.9258 - val_loss: 0.2437 - val_accuracy: 0.9285\n",
            "Epoch 70/100\n",
            "430/430 [==============================] - 3s 7ms/step - loss: 0.2516 - accuracy: 0.9269 - val_loss: 0.2427 - val_accuracy: 0.9290\n",
            "Epoch 71/100\n",
            "430/430 [==============================] - 3s 7ms/step - loss: 0.2502 - accuracy: 0.9269 - val_loss: 0.2425 - val_accuracy: 0.9292\n",
            "Epoch 72/100\n",
            "430/430 [==============================] - 3s 7ms/step - loss: 0.2488 - accuracy: 0.9273 - val_loss: 0.2402 - val_accuracy: 0.9292\n",
            "Epoch 73/100\n",
            "430/430 [==============================] - 3s 7ms/step - loss: 0.2475 - accuracy: 0.9275 - val_loss: 0.2396 - val_accuracy: 0.9297\n",
            "Epoch 74/100\n",
            "430/430 [==============================] - 3s 7ms/step - loss: 0.2462 - accuracy: 0.9282 - val_loss: 0.2379 - val_accuracy: 0.9299\n",
            "Epoch 75/100\n",
            "430/430 [==============================] - 4s 9ms/step - loss: 0.2447 - accuracy: 0.9289 - val_loss: 0.2367 - val_accuracy: 0.9301\n",
            "Epoch 76/100\n",
            "430/430 [==============================] - 4s 9ms/step - loss: 0.2433 - accuracy: 0.9293 - val_loss: 0.2375 - val_accuracy: 0.9301\n",
            "Epoch 77/100\n",
            "430/430 [==============================] - 3s 7ms/step - loss: 0.2420 - accuracy: 0.9297 - val_loss: 0.2353 - val_accuracy: 0.9309\n",
            "Epoch 78/100\n",
            "430/430 [==============================] - 3s 7ms/step - loss: 0.2406 - accuracy: 0.9299 - val_loss: 0.2333 - val_accuracy: 0.9316\n",
            "Epoch 79/100\n",
            "430/430 [==============================] - 3s 7ms/step - loss: 0.2392 - accuracy: 0.9302 - val_loss: 0.2327 - val_accuracy: 0.9313\n",
            "Epoch 80/100\n",
            "430/430 [==============================] - 3s 7ms/step - loss: 0.2380 - accuracy: 0.9308 - val_loss: 0.2312 - val_accuracy: 0.9317\n",
            "Epoch 81/100\n",
            "430/430 [==============================] - 3s 7ms/step - loss: 0.2366 - accuracy: 0.9315 - val_loss: 0.2298 - val_accuracy: 0.9322\n",
            "Epoch 82/100\n",
            "430/430 [==============================] - 3s 7ms/step - loss: 0.2354 - accuracy: 0.9313 - val_loss: 0.2287 - val_accuracy: 0.9327\n",
            "Epoch 83/100\n",
            "430/430 [==============================] - 3s 7ms/step - loss: 0.2340 - accuracy: 0.9318 - val_loss: 0.2276 - val_accuracy: 0.9331\n",
            "Epoch 84/100\n",
            "430/430 [==============================] - 3s 7ms/step - loss: 0.2327 - accuracy: 0.9324 - val_loss: 0.2277 - val_accuracy: 0.9334\n",
            "Epoch 85/100\n",
            "430/430 [==============================] - 3s 7ms/step - loss: 0.2314 - accuracy: 0.9325 - val_loss: 0.2252 - val_accuracy: 0.9334\n",
            "Epoch 86/100\n",
            "430/430 [==============================] - 3s 7ms/step - loss: 0.2301 - accuracy: 0.9331 - val_loss: 0.2237 - val_accuracy: 0.9338\n",
            "Epoch 87/100\n",
            "430/430 [==============================] - 3s 7ms/step - loss: 0.2288 - accuracy: 0.9335 - val_loss: 0.2234 - val_accuracy: 0.9348\n",
            "Epoch 88/100\n",
            "430/430 [==============================] - 3s 7ms/step - loss: 0.2276 - accuracy: 0.9339 - val_loss: 0.2222 - val_accuracy: 0.9343\n",
            "Epoch 89/100\n",
            "430/430 [==============================] - 3s 7ms/step - loss: 0.2262 - accuracy: 0.9342 - val_loss: 0.2209 - val_accuracy: 0.9348\n",
            "Epoch 90/100\n",
            "430/430 [==============================] - 3s 7ms/step - loss: 0.2250 - accuracy: 0.9346 - val_loss: 0.2199 - val_accuracy: 0.9348\n",
            "Epoch 91/100\n",
            "430/430 [==============================] - 3s 7ms/step - loss: 0.2238 - accuracy: 0.9349 - val_loss: 0.2192 - val_accuracy: 0.9356\n",
            "Epoch 92/100\n",
            "430/430 [==============================] - 3s 7ms/step - loss: 0.2224 - accuracy: 0.9351 - val_loss: 0.2182 - val_accuracy: 0.9365\n",
            "Epoch 93/100\n",
            "430/430 [==============================] - 3s 7ms/step - loss: 0.2212 - accuracy: 0.9359 - val_loss: 0.2164 - val_accuracy: 0.9363\n",
            "Epoch 94/100\n",
            "430/430 [==============================] - 3s 7ms/step - loss: 0.2198 - accuracy: 0.9357 - val_loss: 0.2151 - val_accuracy: 0.9373\n",
            "Epoch 95/100\n",
            "430/430 [==============================] - 3s 7ms/step - loss: 0.2187 - accuracy: 0.9368 - val_loss: 0.2139 - val_accuracy: 0.9372\n",
            "Epoch 96/100\n",
            "430/430 [==============================] - 3s 7ms/step - loss: 0.2175 - accuracy: 0.9366 - val_loss: 0.2131 - val_accuracy: 0.9376\n",
            "Epoch 97/100\n",
            "430/430 [==============================] - 3s 7ms/step - loss: 0.2163 - accuracy: 0.9368 - val_loss: 0.2120 - val_accuracy: 0.9377\n",
            "Epoch 98/100\n",
            "430/430 [==============================] - 3s 7ms/step - loss: 0.2150 - accuracy: 0.9375 - val_loss: 0.2109 - val_accuracy: 0.9376\n",
            "Epoch 99/100\n",
            "430/430 [==============================] - 3s 7ms/step - loss: 0.2138 - accuracy: 0.9377 - val_loss: 0.2100 - val_accuracy: 0.9379\n",
            "Epoch 100/100\n",
            "430/430 [==============================] - 3s 7ms/step - loss: 0.2127 - accuracy: 0.9382 - val_loss: 0.2088 - val_accuracy: 0.9389\n"
          ]
        }
      ]
    },
    {
      "cell_type": "markdown",
      "source": [
        "# Com o gradiente para 0,02 e passando a Validação para predição o modelo obteve uma acuracia de 95%"
      ],
      "metadata": {
        "id": "PJBb6CQnXxmW"
      }
    },
    {
      "cell_type": "code",
      "source": [
        "predictions = model.predict(ValidaX, batch_size=128)\n",
        "print(classification_report(ValidaY.argmax(axis=1), predictions.argmax(axis=1), target_names=[str(x) for x in lb.classes_]))"
      ],
      "metadata": {
        "colab": {
          "base_uri": "https://localhost:8080/"
        },
        "id": "k4uET-pSTsB-",
        "outputId": "211aca09-1c57-4aca-cabf-6ddefe9e639a"
      },
      "execution_count": 118,
      "outputs": [
        {
          "output_type": "stream",
          "name": "stdout",
          "text": [
            "40/40 [==============================] - 0s 3ms/step\n",
            "              precision    recall  f1-score   support\n",
            "\n",
            "           0       0.97      0.97      0.97       489\n",
            "           1       0.96      0.98      0.97       530\n",
            "           2       0.97      0.96      0.96       493\n",
            "           3       0.94      0.93      0.94       509\n",
            "           4       0.96      0.97      0.96       499\n",
            "           5       0.94      0.90      0.92       458\n",
            "           6       0.96      0.99      0.97       482\n",
            "           7       0.97      0.98      0.97       563\n",
            "           8       0.93      0.93      0.93       494\n",
            "           9       0.95      0.93      0.94       483\n",
            "\n",
            "    accuracy                           0.95      5000\n",
            "   macro avg       0.95      0.95      0.95      5000\n",
            "weighted avg       0.95      0.95      0.95      5000\n",
            "\n"
          ]
        }
      ]
    },
    {
      "cell_type": "markdown",
      "source": [
        "# A precisão aumentou com o número 5 "
      ],
      "metadata": {
        "id": "YFDLuEmMYQk_"
      }
    },
    {
      "cell_type": "code",
      "source": [
        "plt.style.use('ggplot')\n",
        "plt.figure()\n",
        "plt.plot(np.arange(0, 100), H.history['loss'], label='train_loss')\n",
        "plt.plot(np.arange(0, 100), H.history['val_loss'], label='val_loss')\n",
        "plt.plot(np.arange(0, 100), H.history['accuracy'], label='train_acc')\n",
        "plt.plot(np.arange(0, 100), H.history['val_accuracy'], label='val_acc')\n",
        "plt.title('Training Loss and Accuracy')\n",
        "plt.xlabel('Epoch #')\n",
        "plt.ylabel('Loss/Accuracy')\n",
        "plt.legend()"
      ],
      "metadata": {
        "colab": {
          "base_uri": "https://localhost:8080/",
          "height": 316
        },
        "id": "z46hsG0dP4sA",
        "outputId": "18aa3a6a-f5cd-4bae-8b98-2420003e5be5"
      },
      "execution_count": 119,
      "outputs": [
        {
          "output_type": "execute_result",
          "data": {
            "text/plain": [
              "<matplotlib.legend.Legend at 0x7f2bb1152550>"
            ]
          },
          "metadata": {},
          "execution_count": 119
        },
        {
          "output_type": "display_data",
          "data": {
            "text/plain": [
              "<Figure size 432x288 with 1 Axes>"
            ],
            "image/png": "[encoded data removed]"
          },
          "metadata": {}
        }
      ]
    }
  ]
}